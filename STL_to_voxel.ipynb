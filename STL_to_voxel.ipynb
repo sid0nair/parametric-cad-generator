{
  "nbformat": 4,
  "nbformat_minor": 0,
  "metadata": {
    "colab": {
      "provenance": [],
      "authorship_tag": "ABX9TyOGLch6SX+4l8LpiXROWjdf",
      "include_colab_link": true
    },
    "kernelspec": {
      "name": "python3",
      "display_name": "Python 3"
    },
    "language_info": {
      "name": "python"
    }
  },
  "cells": [
    {
      "cell_type": "markdown",
      "metadata": {
        "id": "view-in-github",
        "colab_type": "text"
      },
      "source": [
        "<a href=\"https://colab.research.google.com/github/sid0nair/3D-CNN-/blob/main/STL_to_voxel.ipynb\" target=\"_parent\"><img src=\"https://colab.research.google.com/assets/colab-badge.svg\" alt=\"Open In Colab\"/></a>"
      ]
    },
    {
      "cell_type": "code",
      "execution_count": null,
      "metadata": {
        "colab": {
          "base_uri": "https://localhost:8080/"
        },
        "id": "ojtCYM4VIdG_",
        "outputId": "d0f3651b-599b-4600-8dc7-384f4f55463f"
      },
      "outputs": [
        {
          "output_type": "stream",
          "name": "stdout",
          "text": [
            "Collecting stl-to-voxel\n",
            "  Downloading stl_to_voxel-0.10.1-py3-none-any.whl.metadata (3.4 kB)\n",
            "Requirement already satisfied: Pillow>=10.0.1 in /usr/local/lib/python3.11/dist-packages (from stl-to-voxel) (11.2.1)\n",
            "Requirement already satisfied: numpy>=1.13 in /usr/local/lib/python3.11/dist-packages (from stl-to-voxel) (2.0.2)\n",
            "Collecting numpy-stl>=2.17 (from stl-to-voxel)\n",
            "  Downloading numpy_stl-3.2.0-py3-none-any.whl.metadata (18 kB)\n",
            "Requirement already satisfied: python-utils>=3.4.5 in /usr/local/lib/python3.11/dist-packages (from numpy-stl>=2.17->stl-to-voxel) (3.9.1)\n",
            "Requirement already satisfied: typing_extensions>3.10.0.2 in /usr/local/lib/python3.11/dist-packages (from python-utils>=3.4.5->numpy-stl>=2.17->stl-to-voxel) (4.13.2)\n",
            "Downloading stl_to_voxel-0.10.1-py3-none-any.whl (12 kB)\n",
            "Downloading numpy_stl-3.2.0-py3-none-any.whl (20 kB)\n",
            "Installing collected packages: numpy-stl, stl-to-voxel\n",
            "Successfully installed numpy-stl-3.2.0 stl-to-voxel-0.10.1\n"
          ]
        }
      ],
      "source": [
        "!pip install stl-to-voxel"
      ]
    },
    {
      "cell_type": "code",
      "source": [
        "!pip install trimesh\n",
        "\n",
        "import trimesh\n",
        "import numpy as np\n",
        "import os\n",
        "from glob import glob\n",
        "\n",
        "input_folder  = \"/content/drive/MyDrive/STL files motor\"\n",
        "output_folder = \"/content/drive/MyDrive/voxel_grids\"\n",
        "os.makedirs(output_folder, exist_ok=True)\n",
        "\n",
        "GRID_DIM = 64\n",
        "\n",
        "\n",
        "def pad_to_shape(mat, tgt):\n",
        "    cur = mat.shape\n",
        "    pads = []\n",
        "    for c, t in zip(cur, (tgt,)*3):\n",
        "        if c < t:\n",
        "            total = t - c\n",
        "            before = total // 2\n",
        "            after  = total - before\n",
        "        else:\n",
        "            before = 0\n",
        "            after  = 0\n",
        "        pads.append((before, after))\n",
        "    mat = np.pad(mat, pads, mode='constant', constant_values=False)\n",
        "    # if any dim > tgt, crop evenly\n",
        "    return mat[\n",
        "        :tgt,\n",
        "        :tgt,\n",
        "        :tgt\n",
        "    ]\n",
        "\n",
        "# 6) Process every .stl in the folder\n",
        "stl_paths = glob(os.path.join(input_folder, \"*.stl\"))\n",
        "for stl_path in stl_paths:\n",
        "    # load mesh\n",
        "    mesh = trimesh.load_mesh(stl_path, force='mesh')\n",
        "    # compute a pitch so the largest bbox axis becomes GRID_DIM voxels\n",
        "    mins, maxs = mesh.bounds\n",
        "    extents = maxs - mins\n",
        "    pitch = extents.max() / GRID_DIM\n",
        "\n",
        "    # voxelize\n",
        "    vox = mesh.voxelized(pitch)\n",
        "    mat = vox.matrix.astype(bool)  # 3D boolean array\n",
        "\n",
        "    # pad / crop to uniform size\n",
        "    mat = pad_to_shape(mat, GRID_DIM)\n",
        "\n",
        "    # save\n",
        "    name = os.path.splitext(os.path.basename(stl_path))[0]\n",
        "    out_path = os.path.join(output_folder, f\"{name}.npy\")\n",
        "    np.save(out_path, mat)\n",
        "    print(f\"saved {out_path}\")"
      ],
      "metadata": {
        "id": "dHGG8PoHIitW",
        "colab": {
          "base_uri": "https://localhost:8080/"
        },
        "outputId": "04a21ca7-a1de-4d51-9929-bec7d40f970d"
      },
      "execution_count": 3,
      "outputs": [
        {
          "output_type": "stream",
          "name": "stdout",
          "text": [
            "Collecting trimesh\n",
            "  Downloading trimesh-4.6.10-py3-none-any.whl.metadata (18 kB)\n",
            "Requirement already satisfied: numpy>=1.20 in /usr/local/lib/python3.11/dist-packages (from trimesh) (2.0.2)\n",
            "Downloading trimesh-4.6.10-py3-none-any.whl (711 kB)\n",
            "\u001b[2K   \u001b[90m━━━━━━━━━━━━━━━━━━━━━━━━━━━━━━━━━━━━━━━━\u001b[0m \u001b[32m711.2/711.2 kB\u001b[0m \u001b[31m9.4 MB/s\u001b[0m eta \u001b[36m0:00:00\u001b[0m\n",
            "\u001b[?25hInstalling collected packages: trimesh\n",
            "Successfully installed trimesh-4.6.10\n",
            "→ saved /content/drive/MyDrive/voxel_grids/2tk3a-aw2u.npy\n",
            "→ saved /content/drive/MyDrive/voxel_grids/4tk10a-aw2u.npy\n",
            "→ saved /content/drive/MyDrive/voxel_grids/3tk6a-aw2u.npy\n",
            "→ saved /content/drive/MyDrive/voxel_grids/5tk20a-cw2e.npy\n",
            "→ saved /content/drive/MyDrive/voxel_grids/5tk20a-aw2u.npy\n",
            "→ saved /content/drive/MyDrive/voxel_grids/4tk10a-cw2e.npy\n",
            "→ saved /content/drive/MyDrive/voxel_grids/2tk3a-cw2e.npy\n",
            "→ saved /content/drive/MyDrive/voxel_grids/3tk6a-cw2e.npy\n",
            "→ saved /content/drive/MyDrive/voxel_grids/3rk15a-ua.npy\n",
            "→ saved /content/drive/MyDrive/voxel_grids/3rk15a-uam.npy\n",
            "→ saved /content/drive/MyDrive/voxel_grids/3rk15a-uc.npy\n",
            "→ saved /content/drive/MyDrive/voxel_grids/3rk15a-ucm.npy\n",
            "All done!\n"
          ]
        }
      ]
    }
  ]
}